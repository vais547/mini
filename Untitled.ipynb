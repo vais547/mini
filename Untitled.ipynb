{
 "cells": [
  {
   "cell_type": "code",
   "execution_count": null,
   "id": "36f00be8",
   "metadata": {},
   "outputs": [],
   "source": [
    "num = int(input(\"enter a number\"))\n",
    "sqrt = num ** 0.5\n",
    "print('The square root is', sqrt)\n"
   ]
  },
  {
   "cell_type": "code",
   "execution_count": null,
   "id": "8ecbfd9b",
   "metadata": {},
   "outputs": [],
   "source": [
    "# Solve the quadratic equation ax**2 + bx + c = 0\n",
    "\n",
    "# import complex math module\n",
    "import cmath\n",
    "\n",
    "a = float(input(\"enter a number: \"))\n",
    "b = float(input(\"enter a number: \"))\n",
    "\n",
    "c = float(input(\"enter a number: \"))\n",
    "\n",
    "# calculate the discriminant\n",
    "d = (b**2) - (4*a*c)\n",
    "\n",
    "# find two solutions\n",
    "sol1 = (-b-cmath.sqrt(d))/(2*a)\n",
    "sol2 = (-b+cmath.sqrt(d))/(2*a)\n",
    "\n",
    "print('The solution are {0} and {1}'.format(sol1,sol2))"
   ]
  },
  {
   "cell_type": "code",
   "execution_count": null,
   "id": "f401e56a",
   "metadata": {},
   "outputs": [],
   "source": [
    "#x = 5\n",
    "#y = 10\n",
    "\n",
    "# To take inputs from the user\n",
    "x = input('Enter value of x: ')\n",
    "y = input('Enter value of y: ')\n",
    "\n",
    "# create a temporary variable and swap the values\n",
    "temp = x\n",
    "x = y\n",
    "y = temp\n",
    "\n",
    "print('The value of x after swapping: {}'.format(x))\n",
    "print('The value of y after swapping: {}'.format(y))"
   ]
  },
  {
   "cell_type": "code",
   "execution_count": 1,
   "id": "0d213127",
   "metadata": {},
   "outputs": [
    {
     "name": "stdout",
     "output_type": "stream",
     "text": [
      "Enter a number: 123\n",
      "123 is not an Armstrong number\n"
     ]
    }
   ],
   "source": [
    "# Python program to check if the number is an Armstrong number or not\n",
    "\n",
    "# take input from the user\n",
    "num = int(input(\"Enter a number: \"))\n",
    "\n",
    "# initialize sum\n",
    "sum = 0\n",
    "\n",
    "# find the sum of the cube of each digit\n",
    "temp = num\n",
    "while temp > 0:\n",
    "   digit = temp % 10\n",
    "   sum += digit ** 3\n",
    "   temp //= 10\n",
    "\n",
    "# display the result\n",
    "if num == sum:\n",
    "   print(num,\"is an Armstrong number\")\n",
    "else:\n",
    "   print(num,\"is not an Armstrong number\")\n"
   ]
  },
  {
   "cell_type": "code",
   "execution_count": 2,
   "id": "a7ef4a9f",
   "metadata": {},
   "outputs": [
    {
     "name": "stdout",
     "output_type": "stream",
     "text": [
      "The H.C.F. is 6\n"
     ]
    }
   ],
   "source": [
    "# Python program to find H.C.F of two numbers\n",
    "\n",
    "# define a function\n",
    "def compute_hcf(x, y):\n",
    "\n",
    "# choose the smaller number\n",
    "    if x > y:\n",
    "        smaller = y\n",
    "    else:\n",
    "        smaller = x\n",
    "    for i in range(1, smaller+1):\n",
    "        if((x % i == 0) and (y % i == 0)):\n",
    "            hcf = i \n",
    "    return hcf\n",
    "\n",
    "num1 = 54 \n",
    "num2 = 24\n",
    "\n",
    "print(\"The H.C.F. is\", compute_hcf(num1, num2))\n"
   ]
  },
  {
   "cell_type": "code",
   "execution_count": 4,
   "id": "561869b5",
   "metadata": {},
   "outputs": [
    {
     "name": "stdout",
     "output_type": "stream",
     "text": [
      "The gcd of 60 and 48 is : 12\n"
     ]
    }
   ],
   "source": [
    "import math\n",
    "  \n",
    "# prints 12\n",
    "print(\"The gcd is : \", end=\"\")\n",
    "print(math.gcd(60, 48))"
   ]
  },
  {
   "cell_type": "code",
   "execution_count": 8,
   "id": "714db7e6",
   "metadata": {},
   "outputs": [
    {
     "name": "stdout",
     "output_type": "stream",
     "text": [
      "The lcm is : 8\n"
     ]
    }
   ],
   "source": [
    "import math\n",
    "  \n",
    "# prints 12\n",
    "print(\"The lcm is : \", end=\"\")\n",
    "print(math.lcm(4, 8))"
   ]
  },
  {
   "cell_type": "code",
   "execution_count": 9,
   "id": "0fe745d7",
   "metadata": {},
   "outputs": [
    {
     "name": "stdout",
     "output_type": "stream",
     "text": [
      "[12, 4, 3]\n",
      "[7, 5, 8]\n"
     ]
    }
   ],
   "source": [
    "# Program to transpose a matrix using a nested loop\n",
    "\n",
    "X = [[12,7],\n",
    "    [4 ,5],\n",
    "    [3 ,8]]\n",
    "\n",
    "result = [[0,0,0],\n",
    "         [0,0,0]]\n",
    "\n",
    "# iterate through rows\n",
    "for i in range(len(X)):\n",
    "   # iterate through columns\n",
    "   for j in range(len(X[0])):\n",
    "       result[j][i] = X[i][j]\n",
    "\n",
    "for r in result:\n",
    "   print(r)\n"
   ]
  },
  {
   "cell_type": "code",
   "execution_count": 10,
   "id": "35d0e514",
   "metadata": {},
   "outputs": [
    {
     "name": "stdout",
     "output_type": "stream",
     "text": [
      "[17, 15, 4]\n",
      "[10, 12, 9]\n",
      "[11, 13, 18]\n"
     ]
    }
   ],
   "source": [
    "# Program to add two matrices using nested loop\n",
    "\n",
    "X = [[12,7,3],\n",
    "    [4 ,5,6],\n",
    "    [7 ,8,9]]\n",
    "\n",
    "Y = [[5,8,1],\n",
    "    [6,7,3],\n",
    "    [4,5,9]]\n",
    "\n",
    "result = [[0,0,0],\n",
    "         [0,0,0],\n",
    "         [0,0,0]]\n",
    "\n",
    "# iterate through rows\n",
    "for i in range(len(X)):\n",
    "   # iterate through columns\n",
    "   for j in range(len(X[0])):\n",
    "       result[i][j] = X[i][j] + Y[i][j]\n",
    "\n",
    "for r in result:\n",
    "   print(r)\n"
   ]
  },
  {
   "cell_type": "code",
   "execution_count": 11,
   "id": "cc66751d",
   "metadata": {},
   "outputs": [
    {
     "name": "stdout",
     "output_type": "stream",
     "text": [
      "{1: 1, 3: 4, 2: 9}\n"
     ]
    }
   ],
   "source": [
    "dict1 = {1: 1, 2: 9, 3: 4}\n",
    "sorted_values = sorted(dict1.values()) # Sort the values\n",
    "sorted_dict = {}\n",
    "\n",
    "for i in sorted_values:\n",
    "    for k in dict1.keys():\n",
    "        if dict1[k] == i:\n",
    "            sorted_dict[k] = dict1[k]\n",
    "\n",
    "print(sorted_dict)"
   ]
  },
  {
   "cell_type": "code",
   "execution_count": 12,
   "id": "b9eb26b7",
   "metadata": {},
   "outputs": [
    {
     "name": "stdout",
     "output_type": "stream",
     "text": [
      "2018-12-04 10:07:00\n"
     ]
    }
   ],
   "source": [
    "import datetime\n",
    " \n",
    "# Function to convert string to datetime\n",
    "def convert(date_time):\n",
    "    format = '%b %d %Y %I:%M%p'  # The format\n",
    "    datetime_str = datetime.datetime.strptime(date_time, format)\n",
    " \n",
    "    return datetime_str\n",
    " \n",
    " \n",
    "# Driver code\n",
    "date_time = 'Dec 4 2018 10:07AM'\n",
    "print(convert(date_time))"
   ]
  },
  {
   "cell_type": "code",
   "execution_count": 13,
   "id": "2f3a77d8",
   "metadata": {},
   "outputs": [
    {
     "name": "stdout",
     "output_type": "stream",
     "text": [
      "Reversed Number: 4321\n"
     ]
    }
   ],
   "source": [
    "num = 1234\n",
    "reversed_num = 0\n",
    "\n",
    "while num != 0:\n",
    "    digit = num % 10\n",
    "    reversed_num = reversed_num * 10 + digit\n",
    "    num //= 10\n",
    "\n",
    "print(\"Reversed Number: \" + str(reversed_num))"
   ]
  },
  {
   "cell_type": "code",
   "execution_count": 14,
   "id": "f9ef505a",
   "metadata": {},
   "outputs": [
    {
     "name": "stdout",
     "output_type": "stream",
     "text": [
      "Answer = 81\n"
     ]
    }
   ],
   "source": [
    "base = 3\n",
    "exponent = 4\n",
    "\n",
    "result = 1\n",
    "\n",
    "while exponent != 0:\n",
    "    result *= base\n",
    "    exponent-=1\n",
    "\n",
    "print(\"Answer = \" + str(result))\n"
   ]
  },
  {
   "cell_type": "code",
   "execution_count": 16,
   "id": "960035b7",
   "metadata": {},
   "outputs": [
    {
     "name": "stdout",
     "output_type": "stream",
     "text": [
      "stop1\n"
     ]
    }
   ],
   "source": [
    "import time\n",
    "def countdown(time_sec):\n",
    "    while time_sec:\n",
    "        mins, secs = divmod(time_sec, 60)\n",
    "        timeformat = '{:02d}:{:02d}'.format(mins, secs)\n",
    "        print(timeformat, end='\\r')\n",
    "        time.sleep(1)\n",
    "        time_sec -= 1\n",
    "\n",
    "    print(\"stop\")\n",
    "\n",
    "countdown(5)"
   ]
  },
  {
   "cell_type": "code",
   "execution_count": 1,
   "id": "ad52f65a",
   "metadata": {},
   "outputs": [
    {
     "name": "stdout",
     "output_type": "stream",
     "text": [
      "JUG1\tJUG2\n",
      "0\t0\n",
      "5\t0\n",
      "0\t5\n",
      "5\t5\n",
      "3\t7\n",
      "0\t3\n",
      "5\t3\n",
      "1\t7\n",
      "0\t1\n",
      "5\t1\n",
      "0\t6\n",
      "5\t6\n",
      "4\t7\n",
      "0\t4\n"
     ]
    },
    {
     "name": "stderr",
     "output_type": "stream",
     "text": [
      "<>:8: SyntaxWarning: \"is\" with a literal. Did you mean \"==\"?\n",
      "<>:8: SyntaxWarning: \"is\" with a literal. Did you mean \"==\"?\n",
      "C:\\Users\\User\\AppData\\Local\\Temp/ipykernel_7044/2644932895.py:8: SyntaxWarning: \"is\" with a literal. Did you mean \"==\"?\n",
      "  elif jug1 != 0 and jug2 is 0:\n"
     ]
    }
   ],
   "source": [
    "def pour(jug1, jug2):\n",
    "    max1, max2, fill = 5, 7, 4  #Change maximum capacity and final capacity\n",
    "    print(\"%d\\t%d\" % (jug1, jug2))\n",
    "    if jug2 is fill:\n",
    "        return\n",
    "    elif jug2 is max2:\n",
    "        pour(0, jug1)\n",
    "    elif jug1 != 0 and jug2 is 0:\n",
    "        pour(0, jug1)\n",
    "    elif jug1 is fill:\n",
    "        pour(jug1, 0)\n",
    "    elif jug1 < max1:\n",
    "        pour(max1, jug2)\n",
    "    elif jug1 < (max2-jug2):\n",
    "        pour(0, (jug1+jug2))\n",
    "    else:\n",
    "        pour(jug1-(max2-jug2), (max2-jug2)+jug2)\n",
    "\n",
    "print(\"JUG1\\tJUG2\")\n",
    "pour(0, 0)"
   ]
  },
  {
   "cell_type": "code",
   "execution_count": 3,
   "id": "0d67da51",
   "metadata": {},
   "outputs": [
    {
     "name": "stdout",
     "output_type": "stream",
     "text": [
      "\n",
      "Input:\n",
      "b'ComputerScience'\n",
      "<class 'bytes'>\n",
      "\n",
      "Output:\n",
      "ComputerScience\n",
      "<class 'str'>\n"
     ]
    }
   ],
   "source": [
    "#program to convert byte to string\n",
    "# Program for converting bytes\n",
    "# to string using decode()\n",
    "\n",
    "data = b'ComputerScience'\n",
    "\n",
    "# display input\n",
    "print('\\nInput:')\n",
    "print(data)\n",
    "print(type(data))\n",
    "\n",
    "# converting\n",
    "output = data.decode()\n",
    "\n",
    "# display output\n",
    "print('\\nOutput:')\n",
    "print(output)\n",
    "print(type(output))\n"
   ]
  },
  {
   "cell_type": "code",
   "execution_count": 2,
   "id": "0a29b2a5",
   "metadata": {},
   "outputs": [],
   "source": [
    "# Python program to merge two files \n",
    "data = data2 = \"\" \n",
    "  \n",
    "# Reading data from first file \n",
    "with open('file1.txt') as fp: \n",
    "    data = fp.read() \n",
    "with open('file2.txt') as fp: \n",
    "    data2 = fp.read() \n",
    "# Merging two files into one another file \n",
    "data += \"\\n\"\n",
    "data += data2 \n",
    "with open ('file3.txt', 'w') as fp: \n",
    "    fp.write(data)\n"
   ]
  },
  {
   "cell_type": "code",
   "execution_count": 32,
   "id": "e90334b4",
   "metadata": {},
   "outputs": [
    {
     "name": "stdout",
     "output_type": "stream",
     "text": [
      "Following is the Breadth First Search\n",
      "1 2 10 3 8 4 9 5 6 7 "
     ]
    }
   ],
   "source": [
    "graph={\n",
    "'1':['2','10'],\n",
    "'2':['3','8'],\n",
    "'3':['4'],\n",
    "'4':['5','6','7'],\n",
    "'5':[],\n",
    "'6':[],\n",
    "'7':[],\n",
    "'8':['9'],\n",
    "'9':[],\n",
    "'10':[]\n",
    "}\n",
    "visited=[]\n",
    "queue=[]\n",
    "def bfs(visited,graph,node):\n",
    "    visited.append(node)\n",
    "    queue.append(node)\n",
    "    while queue:\n",
    "\n",
    "        m=queue.pop(0)\n",
    "\n",
    "        print(m,end=\" \")\n",
    "\n",
    "        for neighbour in graph[m]:\n",
    "            if neighbour not in visited:\n",
    "                visited.append(neighbour)\n",
    "                queue.append(neighbour)\n",
    "print(\"Following is the Breadth First Search\")\n",
    "bfs(visited,graph,'1')"
   ]
  },
  {
   "cell_type": "code",
   "execution_count": 33,
   "id": "2b110686",
   "metadata": {},
   "outputs": [
    {
     "name": "stdout",
     "output_type": "stream",
     "text": [
      "Following is the Depth-First Search\n",
      "5\n",
      "3\n",
      "2\n",
      "1\n",
      "4\n",
      "8\n",
      "7\n",
      "6\n"
     ]
    }
   ],
   "source": [
    "graph = {\n",
    "'5' : ['3','7'],\n",
    "'3' : ['2', '4'],\n",
    "'7' : ['6'],\n",
    "'6': [],\n",
    "'2' : ['1'],\n",
    "'1':[],\n",
    "'4' : ['8'],\n",
    "'8' : []\n",
    "}\n",
    "visited = set() #Set to keep track of visited nodes of graph.\n",
    "def dfs(visited, graph, node): #function for dfs\n",
    "    if node not in visited:\n",
    "        print (node)\n",
    "        visited.add(node)\n",
    "        for neighbour in graph[node]:\n",
    "            dfs(visited, graph, neighbour)\n",
    "#Driver Code\n",
    "print(\"Following is the Depth-First Search\")\n",
    "dfs(visited, graph, '5')"
   ]
  },
  {
   "cell_type": "code",
   "execution_count": null,
   "id": "21c870bb",
   "metadata": {},
   "outputs": [],
   "source": [
    "from queue import PriorityQueue\n",
    "import matplotlib.pyplot as plt\n",
    "import networkx as nx\n",
    "\n",
    "# for implementing BFS | returns path having lowest cost\n",
    "def best_first_search(source, target, n):\n",
    "    visited = [0] * n\n",
    "    visited[source] = True\n",
    "    pq = PriorityQueue()\n",
    "    pq.put((0, source))\n",
    "    while pq.empty() == False:\n",
    "        u = pq.get()[1]\n",
    "        print(u, end=\" \") # the path having lowest cost\n",
    "        if u == target:\n",
    "            break\n",
    "            \n",
    "        for v, c in graph[u]:\n",
    "            if visited[v] == False:\n",
    "                visited[v] = True\n",
    "                pq.put((c, v))\n",
    "    print()\n",
    "# for adding edges to graph\n",
    "def addedge(x, y, cost):\n",
    "    graph[x].append((y, cost))\n",
    "    graph[y].append((x, cost))\n",
    "v = int(input(\"Enter the number of nodes: \"))\n",
    "graph = [[] for i in range(v)] # undirected Graph\n",
    "e = int(input(\"Enter the number of edges: \"))\n",
    "print(\"Enter the edges along with their weights:\")\n",
    "for i in range(e):\n",
    "    x, y, z = list(map(int, input().split()))\n",
    "    addedge(x, y, z)\n",
    "    \n",
    "source = int(input(\"Enter the Source Node: \"))\n",
    "target = int(input(\"Enter the Target/Destination Node: \"))\n",
    "print(\"\\nPath: \", end = \"\")\n",
    "best_first_search(source, target, v)"
   ]
  },
  {
   "cell_type": "code",
   "execution_count": 36,
   "id": "e1fe2956",
   "metadata": {},
   "outputs": [
    {
     "name": "stdout",
     "output_type": "stream",
     "text": [
      "Steps: \n",
      "0 0\n",
      "4 0\n",
      "4 3\n",
      "0 3\n",
      "3 0\n",
      "3 3\n",
      "4 2\n",
      "0 2\n"
     ]
    },
    {
     "data": {
      "text/plain": [
       "True"
      ]
     },
     "execution_count": 36,
     "metadata": {},
     "output_type": "execute_result"
    }
   ],
   "source": [
    "from collections import defaultdict\n",
    "jug1, jug2, aim = 4, 3, 2\n",
    "visited = defaultdict(lambda: False)\n",
    "def waterJugSolver(amt1, amt2):\n",
    "    if (amt1 == aim and amt2 == 0) or (amt2 == aim and amt1 == 0):\n",
    "        print(amt1, amt2)\n",
    "        return True\n",
    "    if visited[(amt1, amt2)] == False:\n",
    "        print(amt1, amt2)\n",
    "        visited[(amt1, amt2)] = True\n",
    "        return (waterJugSolver(0, amt2) or\n",
    "                waterJugSolver(amt1, 0) or\n",
    "                waterJugSolver(jug1, amt2) or\n",
    "                waterJugSolver(amt1, jug2) or\n",
    "                waterJugSolver(amt1 + min(amt2, (jug1-amt1)),\n",
    "                               amt2 - min(amt2, (jug1-amt1))) or\n",
    "                waterJugSolver(amt1 - min(amt1, (jug2-amt2)),\n",
    "                               amt2 + min(amt1, (jug2-amt2))))\n",
    "    else:\n",
    "        return False\n",
    "\n",
    "print(\"Steps: \")\n",
    "waterJugSolver(0, 0)"
   ]
  },
  {
   "cell_type": "code",
   "execution_count": 64,
   "id": "5d9b55c9",
   "metadata": {},
   "outputs": [
    {
     "name": "stdout",
     "output_type": "stream",
     "text": [
      "move disk 1 from source A to destination B\n",
      "move disk 2 from source A to destination C\n",
      "move disk 1 from source B to destination C\n",
      "move disk 3 from source A to destination B\n",
      "move disk 1 from source C to destination A\n",
      "move disk 2 from source C to destination B\n",
      "move disk 1 from source A to destination B\n"
     ]
    }
   ],
   "source": [
    "def TowerOfHanoi(n,source,destination,auxiliary):\n",
    "    if n==1:\n",
    "        print(\"move disk 1 from source\",source,\"to destination\",destination)\n",
    "        return\n",
    "    TowerOfHanoi(n-1,source,auxiliary,destination)\n",
    "    print(\"move disk\",n,\"from source\",source,\"to destination\",destination)\n",
    "    TowerOfHanoi(n-1,auxiliary,destination,source)\n",
    "n=3\n",
    "TowerOfHanoi(n,'A','B','C')"
   ]
  }
 ],
 "metadata": {
  "kernelspec": {
   "display_name": "Python 3 (ipykernel)",
   "language": "python",
   "name": "python3"
  },
  "language_info": {
   "codemirror_mode": {
    "name": "ipython",
    "version": 3
   },
   "file_extension": ".py",
   "mimetype": "text/x-python",
   "name": "python",
   "nbconvert_exporter": "python",
   "pygments_lexer": "ipython3",
   "version": "3.9.7"
  }
 },
 "nbformat": 4,
 "nbformat_minor": 5
}
